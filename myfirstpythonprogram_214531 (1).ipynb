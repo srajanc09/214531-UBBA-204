{
  "nbformat": 4,
  "nbformat_minor": 0,
  "metadata": {
    "colab": {
      "name": "myfirstpythonprogram_214531.ipynb",
      "provenance": [],
      "collapsed_sections": []
    },
    "kernelspec": {
      "name": "python3",
      "display_name": "Python 3"
    },
    "language_info": {
      "name": "python"
    }
  },
  "cells": [
    {
      "cell_type": "code",
      "execution_count": null,
      "metadata": {
        "colab": {
          "base_uri": "https://localhost:8080/"
        },
        "id": "ze3vtyYwufX4",
        "outputId": "f2c616b0-64d9-47eb-aeca-7db85ea74571"
      },
      "outputs": [
        {
          "output_type": "execute_result",
          "data": {
            "text/plain": [
              "0"
            ]
          },
          "metadata": {},
          "execution_count": 1
        }
      ],
      "source": [
        "int(False)"
      ]
    },
    {
      "cell_type": "code",
      "source": [
        ""
      ],
      "metadata": {
        "id": "MPUVF705_5lE"
      },
      "execution_count": null,
      "outputs": []
    },
    {
      "cell_type": "code",
      "source": [
        "print('Sai Ram')\n",
        "print(\"Ram\") \n",
        "print ('Sairam')"
      ],
      "metadata": {
        "colab": {
          "base_uri": "https://localhost:8080/"
        },
        "id": "dwFH6C6o4Vcf",
        "outputId": "95904ae2-8c95-490f-e93d-70ee1034bac7"
      },
      "execution_count": null,
      "outputs": [
        {
          "output_type": "stream",
          "name": "stdout",
          "text": [
            "Sai Ram\n",
            "Ram\n",
            "Sairam\n"
          ]
        }
      ]
    },
    {
      "cell_type": "code",
      "source": [
        "hours = float(input())"
      ],
      "metadata": {
        "id": "rww0d-CqLMHF"
      },
      "execution_count": null,
      "outputs": []
    },
    {
      "cell_type": "code",
      "source": [
        "#Exercise 5\n",
        "hours = float(input('Enter Hours:'))\n",
        "rate = float(input('Enter Rate:'))\n",
        "\n",
        "if hours <= 40:\n",
        "  pay = hours * rate\n",
        "else: \n",
        "  pay = ((hours - 40) * (1.5 * rate)) + (40 * rate)\n",
        "\n",
        "print ('Pay ='), pay"
      ],
      "metadata": {
        "colab": {
          "base_uri": "https://localhost:8080/"
        },
        "id": "TFDPrlzxdcrV",
        "outputId": "969aec88-13d4-4335-9fd7-1ffb978d4b9d"
      },
      "execution_count": null,
      "outputs": [
        {
          "output_type": "stream",
          "name": "stdout",
          "text": [
            "Enter Hours:45\n",
            "Enter Rate:12\n",
            "Pay =\n"
          ]
        },
        {
          "output_type": "execute_result",
          "data": {
            "text/plain": [
              "(None, 570.0)"
            ]
          },
          "metadata": {},
          "execution_count": 1
        }
      ]
    },
    {
      "cell_type": "code",
      "source": [
        "if 4 > 9 :\n",
        "  print (\"first is greater than 2\")\n",
        "else :\n",
        "   print (\"sencond num is greater thann first\") "
      ],
      "metadata": {
        "colab": {
          "base_uri": "https://localhost:8080/"
        },
        "id": "NRzuVYfu_gkb",
        "outputId": "4dce5ce4-cecb-4adb-e15e-e33908d1396c"
      },
      "execution_count": null,
      "outputs": [
        {
          "output_type": "stream",
          "name": "stdout",
          "text": [
            "sencond num is greater thann first\n"
          ]
        }
      ]
    },
    {
      "cell_type": "code",
      "source": [
        " #Exercise 7\n",
        "score = input(\"Enter Score: \")\n",
        "s =  float(score)\n",
        "if s >= 0.9:\n",
        "\tx = 'A'\n",
        "elif s >=0.8:\n",
        "\tx='B'\n",
        "elif s >=0.7:\n",
        "\tx='C'\n",
        "elif s >= 0.6:\n",
        "\tx='D'\n",
        "elif s < .6:\n",
        "\tx ='F'\n",
        "else:\n",
        "\tx =\"Out of Range\"\n",
        "print (x)"
      ],
      "metadata": {
        "colab": {
          "base_uri": "https://localhost:8080/"
        },
        "id": "-d6RWhNXs4H-",
        "outputId": "f22ac90c-20f9-477e-f47f-f87328541c3f"
      },
      "execution_count": null,
      "outputs": [
        {
          "output_type": "stream",
          "name": "stdout",
          "text": [
            "Enter Score: 0.7\n",
            "C\n"
          ]
        }
      ]
    },
    {
      "cell_type": "code",
      "source": [
        "#Exercise 1\n",
        "name = input('Enter your name:')\n",
        "print('Hello'); print(name)\n"
      ],
      "metadata": {
        "colab": {
          "base_uri": "https://localhost:8080/"
        },
        "id": "Re-nFel_teMV",
        "outputId": "4e4042f4-ffeb-4400-b986-d09072d9c382"
      },
      "execution_count": null,
      "outputs": [
        {
          "output_type": "stream",
          "name": "stdout",
          "text": [
            "Enter your name:Srajan\n",
            "Hello\n",
            "Srajan\n"
          ]
        }
      ]
    },
    {
      "cell_type": "code",
      "source": [
        "#Exercise 2\n",
        "hours = float(input('Enter Hours:'))\n",
        "rate = float(input('Enter Rate:'))\n",
        "pay = hours * rate\n",
        "print ('Pay ='), pay"
      ],
      "metadata": {
        "colab": {
          "base_uri": "https://localhost:8080/"
        },
        "id": "ws4fUjWptrGw",
        "outputId": "325d833e-dd8d-434c-d1ff-e032e545dab6"
      },
      "execution_count": null,
      "outputs": [
        {
          "output_type": "stream",
          "name": "stdout",
          "text": [
            "Enter Hours:35\n",
            "Enter Rate:2.75\n",
            "Pay =\n"
          ]
        },
        {
          "output_type": "execute_result",
          "data": {
            "text/plain": [
              "(None, 96.25)"
            ]
          },
          "metadata": {},
          "execution_count": 6
        }
      ]
    },
    {
      "cell_type": "code",
      "source": [
        ""
      ],
      "metadata": {
        "id": "fYjQYAZetz0r"
      },
      "execution_count": null,
      "outputs": []
    },
    {
      "cell_type": "code",
      "source": [
        "if (1 > 0) :\n",
        "  print(1 + 1) "
      ],
      "metadata": {
        "colab": {
          "base_uri": "https://localhost:8080/"
        },
        "id": "bGDZX5eP_kwx",
        "outputId": "4df0fa98-8aec-4d20-dadd-b756235151f9"
      },
      "execution_count": null,
      "outputs": [
        {
          "output_type": "stream",
          "name": "stdout",
          "text": [
            "2\n"
          ]
        }
      ]
    },
    {
      "cell_type": "code",
      "source": [
        "p = float (input ('p =  '))\n",
        "t = float (input ('t = ')) \n",
        "r = float (input ('r =  '))\n",
        "ptr = ((t - p)* 100 ) / (p* r)\n",
        "print (ptr)"
      ],
      "metadata": {
        "colab": {
          "base_uri": "https://localhost:8080/"
        },
        "id": "ivoHN-ChMBSV",
        "outputId": "e5cf7694-87c9-43e6-ee00-ae40fcb95848"
      },
      "execution_count": null,
      "outputs": [
        {
          "output_type": "stream",
          "name": "stdout",
          "text": [
            "p =  5\n",
            "t = 10\n",
            "r =  20\n",
            "5.0\n"
          ]
        }
      ]
    },
    {
      "cell_type": "code",
      "source": [
        "x= 190\n",
        "if x < 40 :\n",
        "  print(\"Fail\")\n",
        "elif x >= 40 and x < 80 :\n",
        "  print(\"B\")\n",
        "elif x >= 80 and x <= 100 :\n",
        " print(\"A\")\n",
        "else :\n",
        " print(\"invalid\")\n"
      ],
      "metadata": {
        "colab": {
          "base_uri": "https://localhost:8080/"
        },
        "id": "ofOREMnjBZOO",
        "outputId": "d13dab08-d4b6-4cce-da0f-d189f79910a2"
      },
      "execution_count": null,
      "outputs": [
        {
          "output_type": "stream",
          "name": "stdout",
          "text": [
            "invalid\n"
          ]
        }
      ]
    },
    {
      "cell_type": "code",
      "source": [
        "#Chater 1, Excercise 7\n",
        "x = 43\n",
        "x = x + 1\n",
        "print(x)\n",
        "#Ans- B"
      ],
      "metadata": {
        "colab": {
          "base_uri": "https://localhost:8080/"
        },
        "id": "uJmZCb9bdSS9",
        "outputId": "6c0ee670-caf1-41a1-8e21-e3aef0887118"
      },
      "execution_count": null,
      "outputs": [
        {
          "output_type": "stream",
          "name": "stdout",
          "text": [
            "44\n"
          ]
        }
      ]
    },
    {
      "cell_type": "code",
      "source": [
        "Name = float (input('Enter Your Name- '))\n"
      ],
      "metadata": {
        "id": "5oQm7kuQdswn"
      },
      "execution_count": null,
      "outputs": []
    },
    {
      "cell_type": "code",
      "source": [
        "x= float (input ('x = '))\n",
        "if x < 40 :\n",
        "  print(\"Fail\")\n",
        "elif x >= 40 and x < 80 :\n",
        "  print(\"B\")\n",
        "elif x >= 80 and x <= 100 :\n",
        " print(\"A\")\n",
        "else :\n",
        " print(\"invalid\")\n"
      ],
      "metadata": {
        "colab": {
          "base_uri": "https://localhost:8080/"
        },
        "id": "4yearXu2DxBL",
        "outputId": "2b2f483d-e051-481f-ab42-9d614e7620de"
      },
      "execution_count": null,
      "outputs": [
        {
          "output_type": "stream",
          "name": "stdout",
          "text": [
            "x = 180\n",
            "invalid\n"
          ]
        }
      ]
    },
    {
      "cell_type": "code",
      "source": [
        "float (True)"
      ],
      "metadata": {
        "colab": {
          "base_uri": "https://localhost:8080/"
        },
        "id": "s0eQhY62wKVL",
        "outputId": "e921e69e-4163-46ce-f899-80fe0842d264"
      },
      "execution_count": null,
      "outputs": [
        {
          "output_type": "execute_result",
          "data": {
            "text/plain": [
              "1.0"
            ]
          },
          "metadata": {},
          "execution_count": 32
        }
      ]
    },
    {
      "cell_type": "code",
      "source": [
        "str(2)"
      ],
      "metadata": {
        "colab": {
          "base_uri": "https://localhost:8080/",
          "height": 35
        },
        "id": "lnr56clrwV5M",
        "outputId": "a4c4a73c-0dfa-4c63-b133-7f922cd0d7c0"
      },
      "execution_count": null,
      "outputs": [
        {
          "output_type": "execute_result",
          "data": {
            "application/vnd.google.colaboratory.intrinsic+json": {
              "type": "string"
            },
            "text/plain": [
              "'2'"
            ]
          },
          "metadata": {},
          "execution_count": 3
        }
      ]
    },
    {
      "cell_type": "code",
      "source": [
        "p = 9%2\n",
        "print (p)"
      ],
      "metadata": {
        "colab": {
          "base_uri": "https://localhost:8080/"
        },
        "id": "emu91mUBy6Zo",
        "outputId": "d13cb0f6-b620-4205-edb1-79d333cc4ea4"
      },
      "execution_count": null,
      "outputs": [
        {
          "output_type": "stream",
          "name": "stdout",
          "text": [
            "1\n"
          ]
        }
      ]
    },
    {
      "cell_type": "code",
      "source": [
        "a = 9//2 \n",
        "print(\"coficient is\" ,a)"
      ],
      "metadata": {
        "colab": {
          "base_uri": "https://localhost:8080/"
        },
        "id": "uMu8rxb0zT1n",
        "outputId": "4a7b75ff-57e1-4357-ef22-30f3bb6c0baf"
      },
      "execution_count": null,
      "outputs": [
        {
          "output_type": "stream",
          "name": "stdout",
          "text": [
            "coficient is 4\n"
          ]
        }
      ]
    },
    {
      "cell_type": "code",
      "source": [
        "bool (0)"
      ],
      "metadata": {
        "colab": {
          "base_uri": "https://localhost:8080/"
        },
        "id": "Q5-IlZ100mJW",
        "outputId": "3da7bb6a-317b-4183-c43c-fe300d2fa9f7"
      },
      "execution_count": null,
      "outputs": [
        {
          "output_type": "execute_result",
          "data": {
            "text/plain": [
              "False"
            ]
          },
          "metadata": {},
          "execution_count": 12
        }
      ]
    },
    {
      "cell_type": "code",
      "source": [
        "bool (1)"
      ],
      "metadata": {
        "colab": {
          "base_uri": "https://localhost:8080/"
        },
        "id": "xAFRgqB007AN",
        "outputId": "16f309bd-77ed-44ae-fd1c-e794e333bce2"
      },
      "execution_count": null,
      "outputs": [
        {
          "output_type": "execute_result",
          "data": {
            "text/plain": [
              "True"
            ]
          },
          "metadata": {},
          "execution_count": 16
        }
      ]
    },
    {
      "cell_type": "code",
      "source": [
        "print (\"Hello, world\")\n",
        "if 5 > 2 :\n",
        "  print (\"five is greater than two\")\n"
      ],
      "metadata": {
        "colab": {
          "base_uri": "https://localhost:8080/"
        },
        "id": "SgchzH6K1QUE",
        "outputId": "0c1c5f9f-e5db-4a4e-f0f6-e415ef6734db"
      },
      "execution_count": null,
      "outputs": [
        {
          "output_type": "stream",
          "name": "stdout",
          "text": [
            "Hello, world\n",
            "five is greater than two\n"
          ]
        }
      ]
    },
    {
      "cell_type": "code",
      "source": [
        "#if year entered before 1752 then print invalid\n",
        "#if year enter % 4 = 0 then its a leapyear otherwise its not a leapyear\n",
        "Year = float (input ('Year = ')) \n",
        "if Year < 1752 :\n",
        "  print(\"Invalid\")\n",
        "elif (Year % 4) == 0 :\n",
        "  print (\"is a leapyear\")\n",
        "else :\n",
        "  print (\"not a leapyear\")\n"
      ],
      "metadata": {
        "colab": {
          "base_uri": "https://localhost:8080/"
        },
        "id": "WmL7nXU4Of_h",
        "outputId": "89fa07bf-7dcc-44d5-aae6-04d5c0f944dc"
      },
      "execution_count": null,
      "outputs": [
        {
          "output_type": "stream",
          "name": "stdout",
          "text": [
            "Year = 2020\n",
            "is a leapyear\n"
          ]
        }
      ]
    },
    {
      "cell_type": "code",
      "source": [
        "name = \" Spiderman- No Way Home \"\n",
        "print ( name [7:21])"
      ],
      "metadata": {
        "colab": {
          "base_uri": "https://localhost:8080/"
        },
        "id": "cA77IR6I2ODs",
        "outputId": "8a8d5393-c505-4778-f5f6-2fcd77c9dc65"
      },
      "execution_count": null,
      "outputs": [
        {
          "output_type": "stream",
          "name": "stdout",
          "text": [
            "man- No Way Ho\n"
          ]
        }
      ]
    },
    {
      "cell_type": "code",
      "source": [
        "name1 = \" Dhoni \"\n",
        "print (name1 [2])"
      ],
      "metadata": {
        "colab": {
          "base_uri": "https://localhost:8080/"
        },
        "id": "elwxFWx68f_R",
        "outputId": "53465b71-1fc4-4677-8eab-c11b27f07a27"
      },
      "execution_count": null,
      "outputs": [
        {
          "output_type": "stream",
          "name": "stdout",
          "text": [
            "h\n"
          ]
        }
      ]
    },
    {
      "cell_type": "code",
      "source": [
        "print (name1 [-2])"
      ],
      "metadata": {
        "colab": {
          "base_uri": "https://localhost:8080/"
        },
        "id": "Zid4odgH80e_",
        "outputId": "39695f66-c0dc-44bc-b893-c28077f3a5eb"
      },
      "execution_count": null,
      "outputs": [
        {
          "output_type": "stream",
          "name": "stdout",
          "text": [
            "i\n"
          ]
        }
      ]
    },
    {
      "cell_type": "code",
      "source": [
        "len ('Dhoni')"
      ],
      "metadata": {
        "colab": {
          "base_uri": "https://localhost:8080/"
        },
        "id": "JNP3n1w_9JU0",
        "outputId": "78f9224c-169f-40a3-c116-15182d2443a4"
      },
      "execution_count": null,
      "outputs": [
        {
          "output_type": "execute_result",
          "data": {
            "text/plain": [
              "5"
            ]
          },
          "metadata": {},
          "execution_count": 22
        }
      ]
    },
    {
      "cell_type": "code",
      "source": [
        "print (name1 + \"- best indian captain\")"
      ],
      "metadata": {
        "colab": {
          "base_uri": "https://localhost:8080/"
        },
        "id": "Cjrw3ps8-Pi0",
        "outputId": "ed731b8a-432b-4ed9-8e27-e2e5846fe068"
      },
      "execution_count": null,
      "outputs": [
        {
          "output_type": "stream",
          "name": "stdout",
          "text": [
            " Dhoni - best indian captain\n"
          ]
        }
      ]
    },
    {
      "cell_type": "code",
      "source": [
        "name2 = \"pizza\"\n",
        "name3 = \" burger \"\n",
        "name4 = \"are not healthy\"\n",
        "print (name2  + name3 + name4)"
      ],
      "metadata": {
        "colab": {
          "base_uri": "https://localhost:8080/"
        },
        "id": "ecZ3dR1F-ua4",
        "outputId": "ba33d837-f713-4819-fb6a-730172eb0611"
      },
      "execution_count": null,
      "outputs": [
        {
          "output_type": "stream",
          "name": "stdout",
          "text": [
            "pizza burger are not healthy\n"
          ]
        }
      ]
    },
    {
      "cell_type": "code",
      "source": [
        "num = \"2\"\n",
        "print ( num  +  name2  + name3 + name4  )"
      ],
      "metadata": {
        "colab": {
          "base_uri": "https://localhost:8080/"
        },
        "id": "67nkXaMU_h9p",
        "outputId": "96b7239d-e2f6-449b-edd9-89a4a9bb5ec1"
      },
      "execution_count": null,
      "outputs": [
        {
          "output_type": "stream",
          "name": "stdout",
          "text": [
            "2pizza burger are not healthy\n"
          ]
        }
      ]
    },
    {
      "cell_type": "code",
      "source": [
        "cost = 6\n",
        "paid = 10\n",
        "returns = (paid - cost)\n",
        "print (returns)"
      ],
      "metadata": {
        "id": "_4EeyG42_8zO",
        "colab": {
          "base_uri": "https://localhost:8080/"
        },
        "outputId": "57329b7b-c69b-4c0f-a6b7-7c5c596207b3"
      },
      "execution_count": null,
      "outputs": [
        {
          "output_type": "stream",
          "name": "stdout",
          "text": [
            "4\n"
          ]
        }
      ]
    },
    {
      "cell_type": "code",
      "source": [
        "5 // (4+5) % 4"
      ],
      "metadata": {
        "colab": {
          "base_uri": "https://localhost:8080/"
        },
        "id": "VWvKOiIENUTB",
        "outputId": "203a02ed-488c-4c11-c953-d15cd30b5017"
      },
      "execution_count": null,
      "outputs": [
        {
          "output_type": "execute_result",
          "data": {
            "text/plain": [
              "0"
            ]
          },
          "metadata": {},
          "execution_count": 47
        }
      ]
    },
    {
      "cell_type": "code",
      "source": [
        "2 * (3+9) / 5"
      ],
      "metadata": {
        "colab": {
          "base_uri": "https://localhost:8080/"
        },
        "id": "U1Hka-lMN7aM",
        "outputId": "b1a4684b-05f9-4cc8-dcae-a3f9ee44221d"
      },
      "execution_count": null,
      "outputs": [
        {
          "output_type": "execute_result",
          "data": {
            "text/plain": [
              "4.8"
            ]
          },
          "metadata": {},
          "execution_count": 49
        }
      ]
    },
    {
      "cell_type": "code",
      "source": [
        "5 // 9\n"
      ],
      "metadata": {
        "colab": {
          "base_uri": "https://localhost:8080/"
        },
        "id": "rbzEb0htOOW_",
        "outputId": "21d9ba2c-cdd2-4bc1-c70a-c9dce71ade0d"
      },
      "execution_count": null,
      "outputs": [
        {
          "output_type": "execute_result",
          "data": {
            "text/plain": [
              "0"
            ]
          },
          "metadata": {},
          "execution_count": 50
        }
      ]
    },
    {
      "cell_type": "code",
      "source": [
        "0 % 4"
      ],
      "metadata": {
        "colab": {
          "base_uri": "https://localhost:8080/"
        },
        "id": "BgABW0rlOQa6",
        "outputId": "5a4caf55-2d21-480a-9ca8-1ed35cae2b83"
      },
      "execution_count": null,
      "outputs": [
        {
          "output_type": "execute_result",
          "data": {
            "text/plain": [
              "0"
            ]
          },
          "metadata": {},
          "execution_count": 51
        }
      ]
    },
    {
      "cell_type": "code",
      "source": [
        "9 % 4\n"
      ],
      "metadata": {
        "colab": {
          "base_uri": "https://localhost:8080/"
        },
        "id": "T0jB9oJSOTBu",
        "outputId": "24912c73-9822-45de-cdc6-7fc378ed7cc6"
      },
      "execution_count": null,
      "outputs": [
        {
          "output_type": "execute_result",
          "data": {
            "text/plain": [
              "1"
            ]
          },
          "metadata": {},
          "execution_count": 52
        }
      ]
    },
    {
      "cell_type": "code",
      "source": [
        "5 // 1"
      ],
      "metadata": {
        "colab": {
          "base_uri": "https://localhost:8080/"
        },
        "id": "5LhiAJOUOZVf",
        "outputId": "24c29ee8-8743-4f00-a793-38a3a8e7f288"
      },
      "execution_count": null,
      "outputs": [
        {
          "output_type": "execute_result",
          "data": {
            "text/plain": [
              "5"
            ]
          },
          "metadata": {},
          "execution_count": 53
        }
      ]
    },
    {
      "cell_type": "code",
      "source": [
        "2 ** (3 * 3)"
      ],
      "metadata": {
        "colab": {
          "base_uri": "https://localhost:8080/"
        },
        "id": "Z1cpOO4fOzsf",
        "outputId": "3607439f-bc51-44bd-afee-364adaf29477"
      },
      "execution_count": null,
      "outputs": [
        {
          "output_type": "execute_result",
          "data": {
            "text/plain": [
              "512"
            ]
          },
          "metadata": {},
          "execution_count": 55
        }
      ]
    },
    {
      "cell_type": "code",
      "source": [
        "2 ** 6\n"
      ],
      "metadata": {
        "colab": {
          "base_uri": "https://localhost:8080/"
        },
        "id": "OkHNaB62PGla",
        "outputId": "917f37f5-5482-4373-e5b1-ee7039706ae4"
      },
      "execution_count": null,
      "outputs": [
        {
          "output_type": "execute_result",
          "data": {
            "text/plain": [
              "64"
            ]
          },
          "metadata": {},
          "execution_count": 56
        }
      ]
    },
    {
      "cell_type": "code",
      "source": [
        "2 ** 9"
      ],
      "metadata": {
        "colab": {
          "base_uri": "https://localhost:8080/"
        },
        "id": "PEadMKO3RKZy",
        "outputId": "adb60e56-1252-43a7-8c36-9e6b56d875f7"
      },
      "execution_count": null,
      "outputs": [
        {
          "output_type": "execute_result",
          "data": {
            "text/plain": [
              "512"
            ]
          },
          "metadata": {},
          "execution_count": 58
        }
      ]
    },
    {
      "cell_type": "code",
      "source": [
        "0 < 1"
      ],
      "metadata": {
        "colab": {
          "base_uri": "https://localhost:8080/"
        },
        "id": "46_8DQPZR1Un",
        "outputId": "a909af22-0111-4261-f9dd-68de6abbfe3a"
      },
      "execution_count": null,
      "outputs": [
        {
          "output_type": "execute_result",
          "data": {
            "text/plain": [
              "True"
            ]
          },
          "metadata": {},
          "execution_count": 59
        }
      ]
    },
    {
      "cell_type": "code",
      "source": [
        "# and operator true and true will be true\n",
        "# and operator true and false will be false\n",
        "# and operator false and true will be\n",
        "A = False\n",
        "B = True\n",
        "A or B"
      ],
      "metadata": {
        "colab": {
          "base_uri": "https://localhost:8080/"
        },
        "id": "XRkIBUPoR5E9",
        "outputId": "f6d986f2-065c-4b50-ba4c-b4c7c897ddc5"
      },
      "execution_count": null,
      "outputs": [
        {
          "output_type": "execute_result",
          "data": {
            "text/plain": [
              "True"
            ]
          },
          "metadata": {},
          "execution_count": 62
        }
      ]
    },
    {
      "cell_type": "code",
      "source": [
        "len (\"python\")"
      ],
      "metadata": {
        "colab": {
          "base_uri": "https://localhost:8080/"
        },
        "id": "AdWAJ42DV1_g",
        "outputId": "78fae4fb-54cf-4a2d-f713-6c8bf1369800"
      },
      "execution_count": null,
      "outputs": [
        {
          "output_type": "execute_result",
          "data": {
            "text/plain": [
              "6"
            ]
          },
          "metadata": {},
          "execution_count": 65
        }
      ]
    },
    {
      "cell_type": "code",
      "source": [
        "print (\"L'\"  \"argent\" )  "
      ],
      "metadata": {
        "colab": {
          "base_uri": "https://localhost:8080/"
        },
        "id": "2sM7mVLuWRMO",
        "outputId": "bed7cfdf-ccbf-4569-e094-4e1d7bba43d4"
      },
      "execution_count": null,
      "outputs": [
        {
          "output_type": "stream",
          "name": "stdout",
          "text": [
            "L'argent\n"
          ]
        }
      ]
    },
    {
      "cell_type": "code",
      "source": [
        "'1' + '2'"
      ],
      "metadata": {
        "colab": {
          "base_uri": "https://localhost:8080/",
          "height": 35
        },
        "id": "DEAVapYzW05B",
        "outputId": "d49d81d5-e837-4503-a5c9-d97c0cd9b23a"
      },
      "execution_count": null,
      "outputs": [
        {
          "output_type": "execute_result",
          "data": {
            "application/vnd.google.colaboratory.intrinsic+json": {
              "type": "string"
            },
            "text/plain": [
              "'12'"
            ]
          },
          "metadata": {},
          "execution_count": 71
        }
      ]
    },
    {
      "cell_type": "code",
      "source": [
        "'hello' + '1'"
      ],
      "metadata": {
        "colab": {
          "base_uri": "https://localhost:8080/",
          "height": 35
        },
        "id": "Zlhc9jTwW1FF",
        "outputId": "0e272ff9-e025-4b19-baba-3cfa4943b674"
      },
      "execution_count": null,
      "outputs": [
        {
          "output_type": "execute_result",
          "data": {
            "application/vnd.google.colaboratory.intrinsic+json": {
              "type": "string"
            },
            "text/plain": [
              "'hello1'"
            ]
          },
          "metadata": {},
          "execution_count": 73
        }
      ]
    }
  ]
}